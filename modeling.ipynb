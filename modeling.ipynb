{
 "cells": [
  {
   "cell_type": "markdown",
   "metadata": {},
   "source": [
    "# Restaurant Recommendation Model\n",
    "\n",
    "## Purpose\n",
    "This Python notebook is dedicated to building and training the machine learning model used as the backend for the Restaurant Recommendation System. The goal is to create a robust recommendation system that suggests restaurants based on user preferences, historical data, and other relevant features.\n",
    "\n",
    "## Frameworks Used\n",
    "Built with sci.kit learn and XGBoost. The GradientBoostingRegressor was used to build this system."
   ]
  },
  {
   "cell_type": "code",
   "execution_count": 1,
   "metadata": {},
   "outputs": [],
   "source": [
    "#Import Relevant Packages\n",
    "import pandas as pd\n",
    "import numpy as np\n",
    "import matplotlib.pyplot as plt"
   ]
  },
  {
   "cell_type": "code",
   "execution_count": 2,
   "metadata": {},
   "outputs": [
    {
     "name": "stdout",
     "output_type": "stream",
     "text": [
      "                       name         city state  postal_code   latitude  \\\n",
      "0              Metro Grille     Flanders    NJ         7836  39.949904   \n",
      "1  Helen's Cafe and Gardens      Alloway    NJ         8001  39.563830   \n",
      "2       Alloway Village Inn      Alloway    NJ         8001  39.555717   \n",
      "3                McDonald's  Cherry Hill    NJ         8002  39.936079   \n",
      "4              Little Tokyo  Cherry Hill    NJ         8002  39.943728   \n",
      "\n",
      "   longitude  stars                                         categories  \\\n",
      "0 -75.161599    3.0          Restaurants, Asian Fusion, American (New)   \n",
      "1 -75.363824    4.0  Restaurants, Cafes, Breakfast & Brunch, Venues...   \n",
      "2 -75.360766    3.5  American (Traditional), Restaurants, Bars, Nig...   \n",
      "3 -75.044117    2.5  Burgers, Food, Restaurants, Fast Food, Coffee ...   \n",
      "4 -75.026066    4.0                  Japanese, Sushi Bars, Restaurants   \n",
      "\n",
      "   B01001_001E  B01001_002E  ...  S1903_C03_031E  S1903_C03_032E  \\\n",
      "0        12034         5893  ...          101521          182798   \n",
      "1          835          420  ...               -          136579   \n",
      "2          835          420  ...               -          136579   \n",
      "3        23630        11866  ...           78875          126982   \n",
      "4        23630        11866  ...           78875          126982   \n",
      "\n",
      "   S1903_C03_033E  S1903_C03_034E  S1903_C03_035E  S1903_C03_036E  \\\n",
      "0          241500           75721           42083           42083   \n",
      "1               -           69773               -               -   \n",
      "2               -           69773               -               -   \n",
      "3          161806           53500           48480           47049   \n",
      "4          161806           53500           48480           47049   \n",
      "\n",
      "   S1903_C03_037E  S1903_C03_038E  S1903_C03_039E  S1903_C03_040E  \n",
      "0               -          100134          100938               -  \n",
      "1               -               -               -               -  \n",
      "2               -               -               -               -  \n",
      "3          100698           63438           40616          136477  \n",
      "4          100698           63438           40616          136477  \n",
      "\n",
      "[5 rows x 152 columns]\n"
     ]
    },
    {
     "name": "stderr",
     "output_type": "stream",
     "text": [
      "/var/folders/6l/xb2bmr4d5718m4gjtrxd8h2w0000gn/T/ipykernel_50067/3902370890.py:2: DtypeWarning: Columns (116,117,123,124,125,127,128,129,130,132,133,139,140,145,146,147,149,150,153,154) have mixed types. Specify dtype option on import or set low_memory=False.\n",
      "  complete = pd.read_csv(\"./data/restaurantdemo.csv\") #Directory\n"
     ]
    }
   ],
   "source": [
    "#Read Pandas Dataframe\n",
    "complete = pd.read_csv(\"./data/restaurantdemo.csv\") #Directory\n",
    "complete = complete.drop(columns=['business_id', 'GEO_ID', 'address', 'review_count', 'star_count'])\n",
    "print(complete.head())"
   ]
  },
  {
   "cell_type": "code",
   "execution_count": 3,
   "metadata": {},
   "outputs": [],
   "source": [
    "#Sk.Learn Imports\n",
    "from sklearn.model_selection import train_test_split\n",
    "from sklearn.metrics import mean_squared_error\n",
    "from sklearn.metrics import mean_absolute_error\n",
    "from sklearn.feature_extraction.text import TfidfVectorizer"
   ]
  },
  {
   "cell_type": "code",
   "execution_count": 4,
   "metadata": {},
   "outputs": [],
   "source": [
    "# Apply TF-IDF to each text column separately\n",
    "tfidf_vectorizer = TfidfVectorizer()\n",
    "\n",
    "for col in ['name', 'city', 'state', 'categories']:\n",
    "    tfidf_matrix = tfidf_vectorizer.fit_transform(complete[col])\n",
    "    tfidf_df = pd.DataFrame(tfidf_matrix.toarray(), columns=tfidf_vectorizer.get_feature_names_out())\n",
    "    complete = pd.concat([complete, tfidf_df], axis=1)\n",
    "\n",
    "# Drop the original text columns\n",
    "complete = complete.drop(['name', 'city', 'state', 'categories'], axis=1)"
   ]
  },
  {
   "cell_type": "code",
   "execution_count": 5,
   "metadata": {},
   "outputs": [
    {
     "name": "stdout",
     "output_type": "stream",
     "text": [
      "   postal_code   latitude  longitude  stars  B01001_001E  B01001_002E  \\\n",
      "0         7836  39.949904 -75.161599    3.0        12034         5893   \n",
      "1         8001  39.563830 -75.363824    4.0          835          420   \n",
      "2         8001  39.555717 -75.360766    3.5          835          420   \n",
      "3         8002  39.936079 -75.044117    2.5        23630        11866   \n",
      "4         8002  39.943728 -75.026066    4.0        23630        11866   \n",
      "\n",
      "   B01001_003E  B01001_004E  B01001_005E  B01001_006E  ...  wineries  wings  \\\n",
      "0          355          267          586           62  ...       0.0    0.0   \n",
      "1            0            0           33            9  ...       0.0    0.0   \n",
      "2            0            0           33            9  ...       0.0    0.0   \n",
      "3         1068          752          650          422  ...       0.0    0.0   \n",
      "4         1068          752          650          422  ...       0.0    0.0   \n",
      "\n",
      "   women  wraps  yelp  yoga  yogurt  your  yourself  zoos  \n",
      "0    0.0    0.0   0.0   0.0     0.0   0.0       0.0   0.0  \n",
      "1    0.0    0.0   0.0   0.0     0.0   0.0       0.0   0.0  \n",
      "2    0.0    0.0   0.0   0.0     0.0   0.0       0.0   0.0  \n",
      "3    0.0    0.0   0.0   0.0     0.0   0.0       0.0   0.0  \n",
      "4    0.0    0.0   0.0   0.0     0.0   0.0       0.0   0.0  \n",
      "\n",
      "[5 rows x 18009 columns]\n"
     ]
    }
   ],
   "source": [
    "print(complete.head())\n",
    "new_comp = complete"
   ]
  },
  {
   "cell_type": "code",
   "execution_count": 6,
   "metadata": {},
   "outputs": [],
   "source": [
    "import xgboost as xgb"
   ]
  },
  {
   "cell_type": "code",
   "execution_count": 7,
   "metadata": {},
   "outputs": [
    {
     "name": "stdout",
     "output_type": "stream",
     "text": [
      "   postal_code  latitude  longitude  stars  B01001_001E  B01001_002E  \\\n",
      "0     0.000000  0.764098   0.989054  0.500     0.120581     0.120460   \n",
      "1     0.001868  0.740280   0.984602  0.750     0.008367     0.008585   \n",
      "2     0.001868  0.739780   0.984669  0.625     0.008367     0.008585   \n",
      "3     0.001879  0.763246   0.991641  0.375     0.236774     0.242554   \n",
      "4     0.001879  0.763717   0.992038  0.750     0.236774     0.242554   \n",
      "\n",
      "   B01001_003E  B01001_004E  B01001_005E  B01001_006E  ...  wineries  wings  \\\n",
      "0     0.086228     0.067732     0.148204     0.025931  ...       0.0    0.0   \n",
      "1     0.000000     0.000000     0.008346     0.003764  ...       0.0    0.0   \n",
      "2     0.000000     0.000000     0.008346     0.003764  ...       0.0    0.0   \n",
      "3     0.259412     0.190766     0.164390     0.176495  ...       0.0    0.0   \n",
      "4     0.259412     0.190766     0.164390     0.176495  ...       0.0    0.0   \n",
      "\n",
      "   women  wraps  yelp  yoga  yogurt  your  yourself  zoos  \n",
      "0    0.0    0.0   0.0   0.0     0.0   0.0       0.0   0.0  \n",
      "1    0.0    0.0   0.0   0.0     0.0   0.0       0.0   0.0  \n",
      "2    0.0    0.0   0.0   0.0     0.0   0.0       0.0   0.0  \n",
      "3    0.0    0.0   0.0   0.0     0.0   0.0       0.0   0.0  \n",
      "4    0.0    0.0   0.0   0.0     0.0   0.0       0.0   0.0  \n",
      "\n",
      "[5 rows x 18009 columns]\n"
     ]
    }
   ],
   "source": [
    "# Normalize all columns\n",
    "complete = complete.apply(pd.to_numeric, errors='coerce')\n",
    "\n",
    "for col in complete.columns:\n",
    "    col_min = complete[col].min()\n",
    "    col_range = complete[col].max() - col_min\n",
    "    complete[col] = (complete[col] - col_min) / col_range\n",
    "\n",
    "print(complete.head())"
   ]
  },
  {
   "cell_type": "code",
   "execution_count": 8,
   "metadata": {},
   "outputs": [
    {
     "name": "stdout",
     "output_type": "stream",
     "text": [
      "(49545, 17574)\n",
      "(49545, 17574)\n",
      "   postal_code  latitude  longitude  stars  B01001_001E  B01001_002E  \\\n",
      "0     0.000000  0.764098   0.989054  0.500     0.120581     0.120460   \n",
      "1     0.001868  0.740280   0.984602  0.750     0.008367     0.008585   \n",
      "2     0.001868  0.739780   0.984669  0.625     0.008367     0.008585   \n",
      "3     0.001879  0.763246   0.991641  0.375     0.236774     0.242554   \n",
      "4     0.001879  0.763717   0.992038  0.750     0.236774     0.242554   \n",
      "\n",
      "   B01001_003E  B01001_004E  B01001_005E  B01001_006E  ...  web  weight  \\\n",
      "0     0.086228     0.067732     0.148204     0.025931  ...  0.0     0.0   \n",
      "1     0.000000     0.000000     0.008346     0.003764  ...  0.0     0.0   \n",
      "2     0.000000     0.000000     0.008346     0.003764  ...  0.0     0.0   \n",
      "3     0.259412     0.190766     0.164390     0.176495  ...  0.0     0.0   \n",
      "4     0.259412     0.190766     0.164390     0.176495  ...  0.0     0.0   \n",
      "\n",
      "   wholesalers  wigs  wildlife  windshield  wineries  women  yelp  zoos  \n",
      "0          0.0   0.0       0.0         0.0       0.0    0.0   0.0   0.0  \n",
      "1          0.0   0.0       0.0         0.0       0.0    0.0   0.0   0.0  \n",
      "2          0.0   0.0       0.0         0.0       0.0    0.0   0.0   0.0  \n",
      "3          0.0   0.0       0.0         0.0       0.0    0.0   0.0   0.0  \n",
      "4          0.0   0.0       0.0         0.0       0.0    0.0   0.0   0.0  \n",
      "\n",
      "[5 rows x 17574 columns]\n"
     ]
    }
   ],
   "source": [
    "# Removes Duplicate Columns\n",
    "complete = complete.loc[:, ~complete.columns.duplicated()]\n",
    "new_comp = new_comp.loc[:, ~new_comp.columns.duplicated()]\n",
    "print(new_comp.shape)\n",
    "print(complete.shape)\n",
    "print(complete.head())"
   ]
  },
  {
   "cell_type": "code",
   "execution_count": 9,
   "metadata": {},
   "outputs": [
    {
     "name": "stdout",
     "output_type": "stream",
     "text": [
      "(49544, 17574)\n",
      "(1, 17574)\n",
      "Index([5124], dtype='int64')\n"
     ]
    }
   ],
   "source": [
    "random_row = complete.sample(n=1, random_state=np.random.randint(0, 100)).copy()\n",
    "complete = complete.drop(index=random_row.index)\n",
    "#new_comp = new_comp.drop(index=random_row.index)\n",
    "print(complete.shape)\n",
    "print(random_row.shape)\n",
    "print(random_row.index)"
   ]
  },
  {
   "cell_type": "code",
   "execution_count": 10,
   "metadata": {},
   "outputs": [
    {
     "name": "stdout",
     "output_type": "stream",
     "text": [
      "(1, 17573)\n"
     ]
    }
   ],
   "source": [
    "# Drop Star Count\n",
    "random_row = random_row.drop(columns='stars')\n",
    "print(random_row.shape)"
   ]
  },
  {
   "cell_type": "code",
   "execution_count": 11,
   "metadata": {},
   "outputs": [
    {
     "name": "stdout",
     "output_type": "stream",
     "text": [
      "Mean Absolute Error: 0.13058177499125567\n"
     ]
    }
   ],
   "source": [
    "# Assume 'stars' is the column you want to predict\n",
    "y = complete['stars']\n",
    "\n",
    "# Drop the target column from the features\n",
    "X = complete.drop('stars', axis=1)\n",
    "\n",
    "# Split the data into training and testing sets\n",
    "X_train, X_test, y_train, y_test = train_test_split(X, y, test_size=0.2, random_state=42)\n",
    "\n",
    "# Model setup\n",
    "bst = xgb.XGBRegressor(objective='reg:squarederror', random_state=42)\n",
    "\n",
    "# Model training\n",
    "bst.fit(X_train, y_train)\n",
    "\n",
    "# Predictions on the test set\n",
    "predictions = bst.predict(X_test)"
   ]
  },
  {
   "cell_type": "code",
   "execution_count": null,
   "metadata": {},
   "outputs": [],
   "source": [
    "# Evaluate the model\n",
    "mae = mean_absolute_error(y_test, predictions)\n",
    "print(f'Mean Absolute Error: {mae}')\n",
    "\n",
    "mse = mean_squared_error(y_test, predictions)\n",
    "print(f'Mean Squared Error: {mse}')"
   ]
  },
  {
   "cell_type": "code",
   "execution_count": 12,
   "metadata": {},
   "outputs": [
    {
     "name": "stdout",
     "output_type": "stream",
     "text": [
      "Random Row:\n",
      "      postal_code  latitude  longitude  B01001_001E  B01001_002E  B01001_003E  \\\n",
      "5124     0.126623   0.77462   0.994695     0.568597      0.58664     0.367015   \n",
      "\n",
      "      B01001_004E  B01001_005E  B01001_006E  B01001_007E  ...  web  weight  \\\n",
      "5124     0.422374     0.405918      0.49059     0.156841  ...  0.0     0.0   \n",
      "\n",
      "      wholesalers  wigs  wildlife  windshield  wineries  women  yelp  zoos  \n",
      "5124          0.0   0.0       0.0         0.0       0.0    0.0   0.0   0.0  \n",
      "\n",
      "[1 rows x 17573 columns]\n",
      "Features for Prediction:\n",
      "      postal_code  latitude  longitude  B01001_001E  B01001_002E  B01001_003E  \\\n",
      "5124     0.126623   0.77462   0.994695     0.568597      0.58664     0.367015   \n",
      "\n",
      "      B01001_004E  B01001_005E  B01001_006E  B01001_007E  ...  web  weight  \\\n",
      "5124     0.422374     0.405918      0.49059     0.156841  ...  0.0     0.0   \n",
      "\n",
      "      wholesalers  wigs  wildlife  windshield  wineries  women  yelp  zoos  \n",
      "5124          0.0   0.0       0.0         0.0       0.0    0.0   0.0   0.0  \n",
      "\n",
      "[1 rows x 17573 columns]\n",
      "Predicted Star_Count: 0.5880435705184937\n"
     ]
    }
   ],
   "source": [
    "#Test Removed Row\n",
    "predicted_star_count = bst.predict(random_row)\n",
    "print(f'Random Row:\\n{random_row}')\n",
    "print(f'Features for Prediction:\\n{random_row}')\n",
    "print(f'Predicted Star_Count: {predicted_star_count[0]}')"
   ]
  },
  {
   "cell_type": "code",
   "execution_count": 13,
   "metadata": {},
   "outputs": [
    {
     "name": "stdout",
     "output_type": "stream",
     "text": [
      "Actual Star Count: 3.0\n",
      "Unnormalized Star Count: 3.3521742820739746\n"
     ]
    }
   ],
   "source": [
    "# Reverse Normalization\n",
    "normalized_star_count = 0.5880435705184937  # Replace this with your actual normalized value\n",
    "original_min_star_count = new_comp['stars'].min()  # Replace with the original minimum value\n",
    "original_range_star_count = new_comp['stars'].max() - original_min_star_count  # Replace with the original range\n",
    "\n",
    "# Unnormalize the 'star_count'\n",
    "row_index = 5124\n",
    "unnormalized_star_count = (normalized_star_count * original_range_star_count) + original_min_star_count\n",
    "actual_star_count = new_comp.loc[row_index, 'stars']\n",
    "# Display the unnormalized 'star_count'\n",
    "print(\"Actual Star Count:\", actual_star_count)\n",
    "print(\"Unnormalized Star Count:\", unnormalized_star_count)"
   ]
  }
 ],
 "metadata": {
  "kernelspec": {
   "display_name": "Python 3",
   "language": "python",
   "name": "python3"
  },
  "language_info": {
   "codemirror_mode": {
    "name": "ipython",
    "version": 3
   },
   "file_extension": ".py",
   "mimetype": "text/x-python",
   "name": "python",
   "nbconvert_exporter": "python",
   "pygments_lexer": "ipython3",
   "version": "3.9.6"
  }
 },
 "nbformat": 4,
 "nbformat_minor": 2
}
